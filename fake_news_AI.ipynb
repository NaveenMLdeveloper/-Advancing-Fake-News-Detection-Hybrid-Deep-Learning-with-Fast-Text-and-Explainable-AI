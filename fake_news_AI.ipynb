{
 "cells": [
  {
   "cell_type": "markdown",
   "id": "1d8d101b-3f7b-424e-8809-ec993236ff92",
   "metadata": {},
   "source": [
    "# Load and Preprocess Data"
   ]
  },
  {
   "cell_type": "code",
   "execution_count": 15,
   "id": "06985768-d3a4-42fb-b818-5dcbe9ebb908",
   "metadata": {},
   "outputs": [],
   "source": [
    "import pandas as pd"
   ]
  },
  {
   "cell_type": "code",
   "execution_count": 16,
   "id": "921e2ace-0adf-4932-b7b5-bce6bac7b0d1",
   "metadata": {},
   "outputs": [],
   "source": [
    "# Load datasets\n",
    "fake_df = pd.read_csv(\"dataset/Fake.csv\")\n",
    "real_df = pd.read_csv(\"dataset/True.csv\")"
   ]
  },
  {
   "cell_type": "code",
   "execution_count": 17,
   "id": "7c7fd936-3833-4dd1-bc0d-7264ade79e85",
   "metadata": {},
   "outputs": [],
   "source": [
    "# Add labels\n",
    "fake_df[\"label\"] = 0  # Fake news\n",
    "real_df[\"label\"] = 1  # Real news"
   ]
  },
  {
   "cell_type": "code",
   "execution_count": 18,
   "id": "2c1484c3-ddd3-40bb-b014-072e0568bac0",
   "metadata": {},
   "outputs": [],
   "source": [
    "# Combine both datasets\n",
    "df = pd.concat([fake_df, real_df]).sample(frac=1, random_state=42).reset_index(drop=True)"
   ]
  },
  {
   "cell_type": "code",
   "execution_count": 19,
   "id": "e4d651a3-5aa7-4220-9bc8-d05a733683da",
   "metadata": {},
   "outputs": [
    {
     "name": "stdout",
     "output_type": "stream",
     "text": [
      "<class 'pandas.core.frame.DataFrame'>\n",
      "RangeIndex: 44898 entries, 0 to 44897\n",
      "Data columns (total 5 columns):\n",
      " #   Column   Non-Null Count  Dtype \n",
      "---  ------   --------------  ----- \n",
      " 0   title    44898 non-null  object\n",
      " 1   text     44898 non-null  object\n",
      " 2   subject  44898 non-null  object\n",
      " 3   date     44898 non-null  object\n",
      " 4   label    44898 non-null  int64 \n",
      "dtypes: int64(1), object(4)\n",
      "memory usage: 1.7+ MB\n",
      "None\n"
     ]
    }
   ],
   "source": [
    "# Display dataset info\n",
    "print(df.info())"
   ]
  },
  {
   "cell_type": "code",
   "execution_count": 20,
   "id": "dff2ee7a-7969-456e-af64-fd2600c7a70f",
   "metadata": {},
   "outputs": [
    {
     "data": {
      "text/html": [
       "<div>\n",
       "<style scoped>\n",
       "    .dataframe tbody tr th:only-of-type {\n",
       "        vertical-align: middle;\n",
       "    }\n",
       "\n",
       "    .dataframe tbody tr th {\n",
       "        vertical-align: top;\n",
       "    }\n",
       "\n",
       "    .dataframe thead th {\n",
       "        text-align: right;\n",
       "    }\n",
       "</style>\n",
       "<table border=\"1\" class=\"dataframe\">\n",
       "  <thead>\n",
       "    <tr style=\"text-align: right;\">\n",
       "      <th></th>\n",
       "      <th>title</th>\n",
       "      <th>text</th>\n",
       "      <th>subject</th>\n",
       "      <th>date</th>\n",
       "      <th>label</th>\n",
       "    </tr>\n",
       "  </thead>\n",
       "  <tbody>\n",
       "    <tr>\n",
       "      <th>0</th>\n",
       "      <td>Ben Stein Calls Out 9th Circuit Court: Committ...</td>\n",
       "      <td>21st Century Wire says Ben Stein, reputable pr...</td>\n",
       "      <td>US_News</td>\n",
       "      <td>February 13, 2017</td>\n",
       "      <td>0</td>\n",
       "    </tr>\n",
       "    <tr>\n",
       "      <th>1</th>\n",
       "      <td>Trump drops Steve Bannon from National Securit...</td>\n",
       "      <td>WASHINGTON (Reuters) - U.S. President Donald T...</td>\n",
       "      <td>politicsNews</td>\n",
       "      <td>April 5, 2017</td>\n",
       "      <td>1</td>\n",
       "    </tr>\n",
       "    <tr>\n",
       "      <th>2</th>\n",
       "      <td>Puerto Rico expects U.S. to lift Jones Act shi...</td>\n",
       "      <td>(Reuters) - Puerto Rico Governor Ricardo Rosse...</td>\n",
       "      <td>politicsNews</td>\n",
       "      <td>September 27, 2017</td>\n",
       "      <td>1</td>\n",
       "    </tr>\n",
       "    <tr>\n",
       "      <th>3</th>\n",
       "      <td>OOPS: Trump Just Accidentally Confirmed He Le...</td>\n",
       "      <td>On Monday, Donald Trump once again embarrassed...</td>\n",
       "      <td>News</td>\n",
       "      <td>May 22, 2017</td>\n",
       "      <td>0</td>\n",
       "    </tr>\n",
       "    <tr>\n",
       "      <th>4</th>\n",
       "      <td>Donald Trump heads for Scotland to reopen a go...</td>\n",
       "      <td>GLASGOW, Scotland (Reuters) - Most U.S. presid...</td>\n",
       "      <td>politicsNews</td>\n",
       "      <td>June 24, 2016</td>\n",
       "      <td>1</td>\n",
       "    </tr>\n",
       "  </tbody>\n",
       "</table>\n",
       "</div>"
      ],
      "text/plain": [
       "                                               title  \\\n",
       "0  Ben Stein Calls Out 9th Circuit Court: Committ...   \n",
       "1  Trump drops Steve Bannon from National Securit...   \n",
       "2  Puerto Rico expects U.S. to lift Jones Act shi...   \n",
       "3   OOPS: Trump Just Accidentally Confirmed He Le...   \n",
       "4  Donald Trump heads for Scotland to reopen a go...   \n",
       "\n",
       "                                                text       subject  \\\n",
       "0  21st Century Wire says Ben Stein, reputable pr...       US_News   \n",
       "1  WASHINGTON (Reuters) - U.S. President Donald T...  politicsNews   \n",
       "2  (Reuters) - Puerto Rico Governor Ricardo Rosse...  politicsNews   \n",
       "3  On Monday, Donald Trump once again embarrassed...          News   \n",
       "4  GLASGOW, Scotland (Reuters) - Most U.S. presid...  politicsNews   \n",
       "\n",
       "                  date  label  \n",
       "0    February 13, 2017      0  \n",
       "1       April 5, 2017       1  \n",
       "2  September 27, 2017       1  \n",
       "3         May 22, 2017      0  \n",
       "4       June 24, 2016       1  "
      ]
     },
     "execution_count": 20,
     "metadata": {},
     "output_type": "execute_result"
    }
   ],
   "source": [
    "df.head()"
   ]
  },
  {
   "cell_type": "code",
   "execution_count": 10,
   "id": "ff6eb304-38a7-436b-868e-662986e2be09",
   "metadata": {},
   "outputs": [
    {
     "name": "stderr",
     "output_type": "stream",
     "text": [
      "Read 14M words\n",
      "Number of words:  357369\n",
      "Number of labels: 2\n",
      "Progress: 100.0% words/sec/thread:  258510 lr:  0.000000 avg.loss:  0.009294 ETA:   0h 0m 0s\n"
     ]
    },
    {
     "name": "stdout",
     "output_type": "stream",
     "text": [
      "              precision    recall  f1-score   support\n",
      "\n",
      "           0       1.00      1.00      1.00      4758\n",
      "           1       1.00      1.00      1.00      4222\n",
      "\n",
      "    accuracy                           1.00      8980\n",
      "   macro avg       1.00      1.00      1.00      8980\n",
      "weighted avg       1.00      1.00      1.00      8980\n",
      "\n",
      "✅ Model Training & Evaluation Completed Successfully!\n"
     ]
    }
   ],
   "source": [
    "import pandas as pd\n",
    "import fasttext\n",
    "import random\n",
    "import os\n",
    "from sklearn.metrics import classification_report\n",
    "\n",
    "# Load Data\n",
    "fake_df = pd.read_csv(\"dataset/Fake.csv\")\n",
    "true_df = pd.read_csv(\"dataset/True.csv\")\n",
    "\n",
    "# Add Labels\n",
    "fake_df[\"label\"] = \"__label__0\"  # Fake News → Label 0\n",
    "true_df[\"label\"] = \"__label__1\"  # True News → Label 1\n",
    "\n",
    "# Combine & Shuffle Data\n",
    "data = pd.concat([fake_df, true_df])\n",
    "data = data.sample(frac=1, random_state=42).reset_index(drop=True)  # Shuffle\n",
    "\n",
    "# Remove newlines & save FastText format\n",
    "def save_fasttext_format(filename, df):\n",
    "    with open(filename, \"w\", encoding=\"utf-8\") as f:\n",
    "        for _, row in df.iterrows():\n",
    "            text = row[\"text\"].replace(\"\\n\", \" \").strip()  # Remove newlines\n",
    "            f.write(f\"{row['label']} {text}\\n\")\n",
    "\n",
    "# Split into Train & Test (80-20)\n",
    "split_ratio = 0.8\n",
    "split_index = int(len(data) * split_ratio)\n",
    "\n",
    "train_data = data[:split_index]\n",
    "test_data = data[split_index:]\n",
    "\n",
    "# Save Train & Test Data\n",
    "save_fasttext_format(\"train.txt\", train_data)\n",
    "save_fasttext_format(\"test.txt\", test_data)\n",
    "\n",
    "# Train FastText Model\n",
    "model = fasttext.train_supervised(\"train.txt\", epoch=25, lr=0.5, wordNgrams=2, loss='softmax')\n",
    "\n",
    "# Evaluate Model\n",
    "def evaluate_model(model, test_file):\n",
    "    y_true, y_pred = [], []\n",
    "    \n",
    "    with open(test_file, \"r\", encoding=\"utf-8\") as f:\n",
    "        for line in f:\n",
    "            label, text = line.split(\" \", 1)\n",
    "            true_label = int(label.replace(\"__label__\", \"\"))\n",
    "            \n",
    "            text = text.strip().replace(\"\\n\", \" \")  # Ensure clean input\n",
    "            predicted_label = int(model.predict(text)[0][0].replace(\"__label__\", \"\"))\n",
    "            \n",
    "            y_true.append(true_label)\n",
    "            y_pred.append(predicted_label)\n",
    "\n",
    "    print(classification_report(y_true, y_pred))\n",
    "\n",
    "# Run Evaluation\n",
    "evaluate_model(model, \"test.txt\")\n",
    "\n",
    "# Save Trained Model\n",
    "model.save_model(\"best_fasttext_model.bin\")\n",
    "\n",
    "print(\"✅ Model Training & Evaluation Completed Successfully!\")\n"
   ]
  },
  {
   "cell_type": "code",
   "execution_count": null,
   "id": "00f909bd-c356-4fe9-abc8-09558f4fef07",
   "metadata": {},
   "outputs": [
    {
     "name": "stdout",
     "output_type": "stream",
     "text": [
      "✅ Successfully loaded model: best_fasttext_model.bin\n"
     ]
    },
    {
     "name": "stdin",
     "output_type": "stream",
     "text": [
      "\n",
      "📝 Enter news text (or type 'exit' to quit):  A stunning story of corruption, cronyism and cover-ups and oh yeah, the Clinton s FBI investigators from across the country have been following leads into reports of bribery involving the Clinton Foundation. Multiple field offices have been involved in the investigation. A report in Sunday s Wall Street Journal (WSJ) by Devlin Barrett revealed that agents assigned to the New York field office have been carrying the bulk of the work in investigating the Clinton Foundation. They have received assistance from the FBI field office in Little Rock according to  people familiar with the matter, the WSJ reported. Other offices, including Los Angeles and Washington, D.C., have been collecting evidence regarding  financial crimes or influence-peddling. As far back as February 2016, FBI agents made the presentation to the Department of Justice (DOJ), the WSJ s sources stated.  The meeting didn t go well,  they wrote. While some sources said the FBI s evidence was not strong enough, others believed the DOJ had no intention from the start of going any further. Barrett wrote that the DOJ officials were  stern, icy and dismissive of the case. Barrett wrote,  That was one of the weirdest meetings I ve ever been to,  one participant told others afterward, according to people familiar with the matter. It appears there was rift between the FBI and the DOJ about how to move forward with the investigation. Agents in the Washington office were directed to focus on a separate issue related to the actions of former Virginia Governor and Clinton Foundation Board member Terry McAuliffe. Agents inside the FBI believed they could build a stronger case if the investigation of McAuliffe and the foundation were combined.FBI Deputy Director Andrew McCabe seemed to be caught in the middle of the fight between DOJ officials who appeared to want to slow down or shut down the investigation and FBI agents who were eager to pour more resources into the investigation.Barrett wrote,  Are you telling me that I need to shut down a validly predicated investigation?  Mr. McCabe asked, according to people familiar with the conversation. After a pause, the official replied,  Of course not,  these people said. Some of the WSJ sources told Barrett that a  stand down  order had been given to the FBI agents by McCabe. Others denied that no such order was given.The story gets more complicated when you factor in that McCabe s wife, Dr. Jill McCabe had received a $467,500 campaign contribution in 2015 for a state senate race from McAuliffe.For entire story: Breitbart\n"
     ]
    },
    {
     "name": "stdout",
     "output_type": "stream",
     "text": [
      "🔍 Prediction: ❌ FAKE NEWS (0) | Confidence: 0.9997\n"
     ]
    },
    {
     "name": "stdin",
     "output_type": "stream",
     "text": [
      "\n",
      "📝 Enter news text (or type 'exit' to quit):  BRUSSELS (Reuters) - Belgian police detained four people over a foiled attack in 2015 on a high-speed train linking Brussels and Paris, federal prosecutors said on Monday. In August 2015 a machinegun-toting attacker wounded three people on a high-speed train before being overpowered by passengers, one in a series of militant attacks that has rocked Belgium and France over the past two years. Police carried out six house searches in Brussels and elsewhere in Belgium early on Monday, but did not find any explosives or weapons. A judge will decide at a later stage whether those detained could be kept further, prosecutors said. __label__0 Hillary s been using churches across America as a backdrop to promote the violent Black Lives Matter movement in an effort to pander for black votes. She proves every day how little respect she has for our religious institutions, the Christian community and more specifically, the Catholic church and it s  backwards  members. Will Catholics finally see the writing on the wall this election, or will they elect a woman who will unquestionably nominate Supreme Court Justices who are hell-bent on destroying our religious rights?Outraged by the anti-Catholic bigotry displayed in leaked Team Clinton emails this week, the powerful Philadelphia bishop blasted both President Obama and Hillary Rodham Clinton for their efforts to undermine church teachings.In his weekly column for the Archdiocese of Philadelphia, Archbishop Charles Chaput Thursday demanded that Clinton repudiate the emails   then added that he doesn t expect her to.Mocking the theme in the emails that Catholics are backward thinking for views on abortion, marriage and other core issues, Chaput wrote,  Of course it would be wonderful for the Clinton campaign to repudiate the content of these ugly WikiLeaks emails. All of us backward-thinking Catholics who actually believe what Scripture and the Church teach would be so very grateful. Via: Washington Examiner\n"
     ]
    },
    {
     "name": "stdout",
     "output_type": "stream",
     "text": [
      "🔍 Prediction: ❌ FAKE NEWS (0) | Confidence: 0.7668\n"
     ]
    },
    {
     "name": "stdin",
     "output_type": "stream",
     "text": [
      "\n",
      "📝 Enter news text (or type 'exit' to quit):  WASHINGTON (Reuters) - The husband of White House adviser Kellyanne Conway criticized President Donald Trump’s tweets about the administration’s temporary travel ban on Monday, saying they were undercutting the Justice Department’s ability to defend his policies. The president’s messages “may make some people feel better,” but they will not help the administration achieve its goal of getting the Supreme Court to rule in its favor, George Conway said in a Twitter message.  George Conway is a lawyer who last week withdrew from contention for a senior Justice Department post; his wife was Trump’s 2016 campaign manager before joining him in the White House as a senior adviser who is one of Trump’s most vigorous defenders. In later Twitter messages, George Conway emphasized he still “very, very strongly” supports Trump and his executive order, but he said tweets on legal matters “seriously undermine” the administration’s agenda. He also said that “sensible” lawyers in the White House and Justice Department agree with him.   In his early morning Twitter messages on Monday, Trump potentially hurt his administration’s legal case as it seeks to have the Supreme Court overturn lower courts’ rulings and allow the travel ban to go into effect. He assailed the Justice Department for a revised version of the measure that he called “watered down” and “politically correct.”   The White House did not immediately respond to a request for comment about George Conway’s tweets.  The travel ban, which Trump says is aimed at preventing attacks in the United States, seeks to halt entry to the United States for 90 days for people from several predominantly Muslim countries and bar refugees for four months. Critics say it is discriminatory.   Conway was in contention to head the civil division of the Justice Department, which would have given him responsibility for defending the travel ban in court. He said last week that it was “not the right time” for him to leave the private sector.\n"
     ]
    },
    {
     "name": "stdout",
     "output_type": "stream",
     "text": [
      "🔍 Prediction: ✅ TRUE NEWS (1) | Confidence: 1.0000\n"
     ]
    },
    {
     "name": "stdin",
     "output_type": "stream",
     "text": [
      "\n",
      "📝 Enter news text (or type 'exit' to quit):  (Reuters) - Britain’s Sir Elton John will not perform at the inauguration of Donald Trump in Washington as U.S. president, the singer-songwriter’s spokeswoman said on Wednesday. Anthony Scaramucci, an economic adviser to Trump’s campaign, said John would be performing in a BBC radio interview during which Scaramucci also said the Republican president-elect had a pro-gay rights stance. “Elton John is going to be doing our concert on the Mall for the inauguration,” Scaramucci added in the interview for  “HARDtalk,” broadcast on Wednesday. “Elton will not be performing at Trump’s inaugural,” the singer’s publicist, Fran Curtis, responded. John, a prominent gay rights activist, performed at fundraisers for Democrat Hillary Clinton during the U.S. presidential election campaign. He also objected when Trump played his “Rocket Man” and “Tiny Dancer” songs without permission during rallies and campaign appearances earlier this year, saying that any use of his music “should not be seen as an endorsement of Donald Trump.” A spokesman for the Trump inauguration committee did not respond to a request for comment on Scaramucci’s claim.\n"
     ]
    },
    {
     "name": "stdout",
     "output_type": "stream",
     "text": [
      "🔍 Prediction: ✅ TRUE NEWS (1) | Confidence: 1.0000\n"
     ]
    }
   ],
   "source": [
    "import fasttext\n",
    "\n",
    "# Load trained model\n",
    "model_path = \"best_fasttext_model.bin\"\n",
    "try:\n",
    "    model = fasttext.load_model(\"best_fasttext_model.bin\")\n",
    "    print(f\"✅ Successfully loaded model: {model_path}\")\n",
    "except Exception as e:\n",
    "    print(f\"❌ Error loading model: {e}\")\n",
    "    exit()\n",
    "\n",
    "# Function for manual testing\n",
    "def test_manual_input():\n",
    "    while True:\n",
    "        text = input(\"\\n📝 Enter news text (or type 'exit' to quit): \")\n",
    "        if text.lower() == \"exit\":\n",
    "            print(\"🚪 Exiting manual testing...\")\n",
    "            break\n",
    "\n",
    "        # Predict label\n",
    "        label, probability = model.predict(text)\n",
    "\n",
    "        # Ensure only two classes\n",
    "        if label[0] == \"__label__0\":  # Fake news\n",
    "            print(f\"🔍 Prediction: ❌ FAKE NEWS (0) | Confidence: {probability[0]:.4f}\")\n",
    "        else:  # True news (since only 0 and 1 exist)\n",
    "            print(f\"🔍 Prediction: ✅ TRUE NEWS (1) | Confidence: {probability[0]:.4f}\")\n",
    "\n",
    "# Run testing\n",
    "test_manual_input()\n"
   ]
  },
  {
   "cell_type": "code",
   "execution_count": null,
   "id": "f7242513-421b-46d2-af7e-81d87db05438",
   "metadata": {},
   "outputs": [],
   "source": [
    "A stunning story of corruption, cronyism and cover-ups and oh yeah, the Clinton s FBI investigators from across the country have been following leads into reports of bribery involving the Clinton Foundation. Multiple field offices have been involved in the investigation. A report in Sunday s Wall Street Journal (WSJ) by Devlin Barrett revealed that agents assigned to the New York field office have been carrying the bulk of the work in investigating the Clinton Foundation. They have received assistance from the FBI field office in Little Rock according to  people familiar with the matter, the WSJ reported. Other offices, including Los Angeles and Washington, D.C., have been collecting evidence regarding  financial crimes or influence-peddling. As far back as February 2016, FBI agents made the presentation to the Department of Justice (DOJ), the WSJ s sources stated.  The meeting didn t go well,  they wrote. While some sources said the FBI s evidence was not strong enough, others believed the DOJ had no intention from the start of going any further. Barrett wrote that the DOJ officials were  stern, icy and dismissive of the case. Barrett wrote,  That was one of the weirdest meetings I ve ever been to,  one participant told others afterward, according to people familiar with the matter. It appears there was rift between the FBI and the DOJ about how to move forward with the investigation. Agents in the Washington office were directed to focus on a separate issue related to the actions of former Virginia Governor and Clinton Foundation Board member Terry McAuliffe. Agents inside the FBI believed they could build a stronger case if the investigation of McAuliffe and the foundation were combined.FBI Deputy Director Andrew McCabe seemed to be caught in the middle of the fight between DOJ officials who appeared to want to slow down or shut down the investigation and FBI agents who were eager to pour more resources into the investigation.Barrett wrote,  Are you telling me that I need to shut down a validly predicated investigation?  Mr. McCabe asked, according to people familiar with the conversation. After a pause, the official replied,  Of course not,  these people said. Some of the WSJ sources told Barrett that a  stand down  order had been given to the FBI agents by McCabe. Others denied that no such order was given.The story gets more complicated when you factor in that McCabe s wife, Dr. Jill McCabe had received a $467,500 campaign contribution in 2015 for a state senate race from McAuliffe.For entire story: Breitbart"
   ]
  }
 ],
 "metadata": {
  "kernelspec": {
   "display_name": "Python 3 (ipykernel)",
   "language": "python",
   "name": "python3"
  },
  "language_info": {
   "codemirror_mode": {
    "name": "ipython",
    "version": 3
   },
   "file_extension": ".py",
   "mimetype": "text/x-python",
   "name": "python",
   "nbconvert_exporter": "python",
   "pygments_lexer": "ipython3",
   "version": "3.12.3"
  }
 },
 "nbformat": 4,
 "nbformat_minor": 5
}
